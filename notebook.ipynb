{
 "cells": [
  {
   "cell_type": "code",
   "execution_count": 92,
   "metadata": {
    "ExecuteTime": {
     "end_time": "2020-01-15T02:50:37.182671Z",
     "start_time": "2020-01-15T02:50:37.165229Z"
    }
   },
   "outputs": [],
   "source": [
    "import pandas as pd\n",
    "import matplotlib.pyplot as plt\n",
    "import descartes\n",
    "import geopandas as gpd\n",
    "from shapely.geometry import Point, Polygon\n",
    "import os\n",
    "from matplotlib import font_manager as fm, rcParams\n",
    "\n",
    "%matplotlib notebook"
   ]
  },
  {
   "cell_type": "code",
   "execution_count": 5,
   "metadata": {
    "ExecuteTime": {
     "end_time": "2020-01-14T06:13:11.627036Z",
     "start_time": "2020-01-14T06:13:11.584081Z"
    }
   },
   "outputs": [],
   "source": [
    "pp = gpd.read_file('data/pp/pp.shp')"
   ]
  },
  {
   "cell_type": "code",
   "execution_count": 3,
   "metadata": {
    "ExecuteTime": {
     "end_time": "2020-01-14T06:12:44.610013Z",
     "start_time": "2020-01-14T06:12:25.820697Z"
    }
   },
   "outputs": [],
   "source": [
    "vias = gpd.read_file('data/Via/Via.shp')"
   ]
  },
  {
   "cell_type": "code",
   "execution_count": 4,
   "metadata": {
    "ExecuteTime": {
     "end_time": "2020-01-14T06:12:45.473217Z",
     "start_time": "2020-01-14T06:12:45.470411Z"
    }
   },
   "outputs": [],
   "source": [
    "pp_boundary = pp.loc[0, 'geometry']\n",
    "# pp_boundary"
   ]
  },
  {
   "cell_type": "code",
   "execution_count": 7,
   "metadata": {
    "ExecuteTime": {
     "end_time": "2020-01-14T06:20:31.663360Z",
     "start_time": "2020-01-14T06:13:55.002840Z"
    }
   },
   "outputs": [],
   "source": [
    "pp_via = vias[vias.geometry.within(pp_boundary)]"
   ]
  },
  {
   "cell_type": "code",
   "execution_count": 109,
   "metadata": {
    "ExecuteTime": {
     "end_time": "2020-01-15T04:02:31.741930Z",
     "start_time": "2020-01-15T04:02:18.520927Z"
    }
   },
   "outputs": [],
   "source": [
    "pp_via.to_file('data/pp_vias.shp')"
   ]
  },
  {
   "cell_type": "code",
   "execution_count": 110,
   "metadata": {
    "ExecuteTime": {
     "end_time": "2020-01-15T05:04:31.551131Z",
     "start_time": "2020-01-15T05:04:31.546610Z"
    }
   },
   "outputs": [
    {
     "data": {
      "text/plain": [
       "(112825, 5)"
      ]
     },
     "execution_count": 110,
     "metadata": {},
     "output_type": "execute_result"
    }
   ],
   "source": [
    "pp_via.shape"
   ]
  }
 ],
 "metadata": {
  "kernelspec": {
   "display_name": "Python 3",
   "language": "python",
   "name": "python3"
  },
  "language_info": {
   "codemirror_mode": {
    "name": "ipython",
    "version": 3
   },
   "file_extension": ".py",
   "mimetype": "text/x-python",
   "name": "python",
   "nbconvert_exporter": "python",
   "pygments_lexer": "ipython3",
   "version": "3.7.4"
  },
  "varInspector": {
   "cols": {
    "lenName": 16,
    "lenType": 16,
    "lenVar": 40
   },
   "kernels_config": {
    "python": {
     "delete_cmd_postfix": "",
     "delete_cmd_prefix": "del ",
     "library": "var_list.py",
     "varRefreshCmd": "print(var_dic_list())"
    },
    "r": {
     "delete_cmd_postfix": ") ",
     "delete_cmd_prefix": "rm(",
     "library": "var_list.r",
     "varRefreshCmd": "cat(var_dic_list()) "
    }
   },
   "position": {
    "height": "401px",
    "left": "1661px",
    "right": "20px",
    "top": "119px",
    "width": "254px"
   },
   "types_to_exclude": [
    "module",
    "function",
    "builtin_function_or_method",
    "instance",
    "_Feature"
   ],
   "window_display": true
  }
 },
 "nbformat": 4,
 "nbformat_minor": 2
}
